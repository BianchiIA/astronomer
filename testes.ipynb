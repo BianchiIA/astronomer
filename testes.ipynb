{
 "cells": [
  {
   "cell_type": "code",
   "execution_count": 4,
   "metadata": {},
   "outputs": [],
   "source": [
    "file = 'EXTTR_DIMP_SMF_28741080000155_01022023_28022023_314034.zip'\n",
    "file = file.split('_')\n",
    "file[-1] = file[-1].strip('.zip')"
   ]
  },
  {
   "cell_type": "code",
   "execution_count": 5,
   "metadata": {},
   "outputs": [
    {
     "data": {
      "text/plain": [
       "['EXTTR', 'DIMP', 'SMF', '28741080000155', '01022023', '28022023', '314034']"
      ]
     },
     "execution_count": 5,
     "metadata": {},
     "output_type": "execute_result"
    }
   ],
   "source": [
    "file"
   ]
  },
  {
   "cell_type": "code",
   "execution_count": 15,
   "metadata": {},
   "outputs": [],
   "source": [
    "import pandas as pd\n",
    "import numpy as np\n"
   ]
  },
  {
   "cell_type": "code",
   "execution_count": 17,
   "metadata": {},
   "outputs": [
    {
     "data": {
      "text/html": [
       "<div>\n",
       "<style scoped>\n",
       "    .dataframe tbody tr th:only-of-type {\n",
       "        vertical-align: middle;\n",
       "    }\n",
       "\n",
       "    .dataframe tbody tr th {\n",
       "        vertical-align: top;\n",
       "    }\n",
       "\n",
       "    .dataframe thead th {\n",
       "        text-align: right;\n",
       "    }\n",
       "</style>\n",
       "<table border=\"1\" class=\"dataframe\">\n",
       "  <thead>\n",
       "    <tr style=\"text-align: right;\">\n",
       "      <th></th>\n",
       "      <th>tipo1</th>\n",
       "      <th>tipo2</th>\n",
       "      <th>tipo3</th>\n",
       "      <th>cnpj_minicipio</th>\n",
       "      <th>df_ref_init</th>\n",
       "      <th>df_ref_end</th>\n",
       "      <th>id_extact</th>\n",
       "    </tr>\n",
       "  </thead>\n",
       "  <tbody>\n",
       "    <tr>\n",
       "      <th>0</th>\n",
       "      <td>EXTTR</td>\n",
       "      <td>DIMP</td>\n",
       "      <td>SMF</td>\n",
       "      <td>28741080000155</td>\n",
       "      <td>01022023</td>\n",
       "      <td>28022023</td>\n",
       "      <td>314034</td>\n",
       "    </tr>\n",
       "  </tbody>\n",
       "</table>\n",
       "</div>"
      ],
      "text/plain": [
       "   tipo1 tipo2 tipo3  cnpj_minicipio df_ref_init df_ref_end id_extact\n",
       "0  EXTTR  DIMP   SMF  28741080000155    01022023   28022023    314034"
      ]
     },
     "execution_count": 17,
     "metadata": {},
     "output_type": "execute_result"
    }
   ],
   "source": [
    "pd.DataFrame(data=np.array(file).reshape(-1, len(file)), columns = ['tipo1', 'tipo2', 'tipo3','cnpj_minicipio', 'df_ref_init', 'df_ref_end', 'id_extact' ])"
   ]
  },
  {
   "cell_type": "code",
   "execution_count": 3,
   "metadata": {},
   "outputs": [],
   "source": [
    "teste = 'dataita/testes/pastaRaw/pastaZip/EXTTR_DIMP_SMF_28741080000155_01012023_31012023_314030.zip'"
   ]
  },
  {
   "cell_type": "code",
   "execution_count": 14,
   "metadata": {},
   "outputs": [
    {
     "name": "stdout",
     "output_type": "stream",
     "text": [
      "   tipo1 tipo2 tipo3  cnpj_minicipio df_ref_init df_ref_end id_extact\n",
      "0  EXTTR  DIMP   SMF  28741080000155    01012023   31012023    314030\n"
     ]
    },
    {
     "data": {
      "text/plain": [
       "('01012023', '31012023', '314030')"
      ]
     },
     "execution_count": 14,
     "metadata": {},
     "output_type": "execute_result"
    }
   ],
   "source": [
    "def get_metadata(path_file):\n",
    "\n",
    "    file = path_file.split('/')[-1]\n",
    "    file = file.split('_')\n",
    "    file[-1] = file[-1].strip('.zip')\n",
    "\n",
    "    id_file = file[4], file[5], file[6]\n",
    "\n",
    "    df = pd.DataFrame(data=np.array(file).reshape(-1, len(file)),\n",
    "         columns = ['tipo1', 'tipo2', 'tipo3','cnpj_minicipio', 'df_ref_init', 'df_ref_end', 'id_extact' ])\n",
    "\n",
    "    return id_file\n",
    "\n",
    "    \n",
    "get_metadata(teste)\n",
    "\n",
    "\n",
    "\n"
   ]
  },
  {
   "cell_type": "code",
   "execution_count": null,
   "metadata": {},
   "outputs": [],
   "source": []
  },
  {
   "cell_type": "code",
   "execution_count": null,
   "metadata": {},
   "outputs": [],
   "source": []
  }
 ],
 "metadata": {
  "kernelspec": {
   "display_name": "villam-dsa",
   "language": "python",
   "name": "python3"
  },
  "language_info": {
   "codemirror_mode": {
    "name": "ipython",
    "version": 3
   },
   "file_extension": ".py",
   "mimetype": "text/x-python",
   "name": "python",
   "nbconvert_exporter": "python",
   "pygments_lexer": "ipython3",
   "version": "3.9.20"
  }
 },
 "nbformat": 4,
 "nbformat_minor": 2
}
